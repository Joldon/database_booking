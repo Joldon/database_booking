{
 "cells": [
  {
   "cell_type": "code",
   "execution_count": 1,
   "metadata": {},
   "outputs": [
    {
     "name": "stdout",
     "output_type": "stream",
     "text": [
      "Defaulting to user installation because normal site-packages is not writeable\n",
      "Requirement already satisfied: mysql-connector-python in /Users/joldon/Library/Python/3.9/lib/python/site-packages (8.2.0)\n",
      "Requirement already satisfied: protobuf<=4.21.12,>=4.21.1 in /Users/joldon/Library/Python/3.9/lib/python/site-packages (from mysql-connector-python) (4.21.12)\n",
      "\u001b[33mWARNING: You are using pip version 21.2.4; however, version 23.3.2 is available.\n",
      "You should consider upgrading via the '/Library/Developer/CommandLineTools/usr/bin/python3 -m pip install --upgrade pip' command.\u001b[0m\n",
      "Note: you may need to restart the kernel to use updated packages.\n"
     ]
    }
   ],
   "source": [
    "# install mysql-connector-python\n",
    "# %pip install mysql-connector-python"
   ]
  },
  {
   "cell_type": "code",
   "execution_count": 14,
   "metadata": {},
   "outputs": [],
   "source": [
    "# database password from config.py\n",
    "from config import db_password"
   ]
  },
  {
   "cell_type": "code",
   "execution_count": 15,
   "metadata": {},
   "outputs": [
    {
     "name": "stdout",
     "output_type": "stream",
     "text": [
      "Connection between MySQL and Python is established.\n",
      "\n"
     ]
    }
   ],
   "source": [
    "# import mysql connector\n",
    "import mysql.connector as connector\n",
    "\n",
    "# connect MySQL with Python\n",
    "connection = connector.connect(user='db_admin', password=db_password,\n",
    "                              db='db_booking')\n",
    "print(\"Connection between MySQL and Python is established.\\n\")"
   ]
  },
  {
   "cell_type": "code",
   "execution_count": 16,
   "metadata": {},
   "outputs": [
    {
     "name": "stdout",
     "output_type": "stream",
     "text": [
      "Cursor is created.\n",
      "\n"
     ]
    }
   ],
   "source": [
    "# create cursor\n",
    "cursor = connection.cursor()\n",
    "print(\"Cursor is created.\\n\")"
   ]
  },
  {
   "cell_type": "code",
   "execution_count": 17,
   "metadata": {},
   "outputs": [],
   "source": [
    "# import error handler\n",
    "from mysql.connector import Error"
   ]
  },
  {
   "cell_type": "code",
   "execution_count": 18,
   "metadata": {},
   "outputs": [
    {
     "name": "stdout",
     "output_type": "stream",
     "text": [
      "('Bookings',)\n",
      "('Customers',)\n",
      "('Menu',)\n",
      "('Orders',)\n",
      "('OrderStatus',)\n",
      "('ordersview',)\n",
      "('Staff',)\n"
     ]
    }
   ],
   "source": [
    "# execute cursor to test connection\n",
    "try:\n",
    "    cursor.execute('SHOW tables')\n",
    "    # print(\"Cursor executed.\\n\")\n",
    "\n",
    "    results = cursor.fetchall()\n",
    "    for result in results:\n",
    "        print(result)\n",
    "    \n",
    "    # Consume any remaining results if available\n",
    "    # while cursor.nextset():\n",
    "    #     pass\n",
    "\n",
    "except Error as err:\n",
    "    print(\"error: \", err.errno)\n",
    "    print('Message: ', err.msg)"
   ]
  },
  {
   "cell_type": "code",
   "execution_count": 20,
   "metadata": {},
   "outputs": [],
   "source": [
    "# create an sql statement with joins and filters\n",
    "filter_customers_greater_than_25_dollars_orders = \"\"\" \n",
    "SELECT c.customer_name, o.total_cost\n",
    "FROM Customers AS c\n",
    "INNER JOIN Orders AS o\n",
    "ON c.order_id = o.order_id\n",
    "WHERE o.total_cost > 25;\n",
    "\"\"\"\n",
    "\n",
    "# display the sql statement\n",
    "cursor.execute(filter_customers_greater_than_25_dollars_orders)\n",
    "results = cursor.fetchall()\n",
    "for result in results:\n",
    "    print(result)"
   ]
  }
 ],
 "metadata": {
  "kernelspec": {
   "display_name": "Python 3",
   "language": "python",
   "name": "python3"
  },
  "language_info": {
   "codemirror_mode": {
    "name": "ipython",
    "version": 3
   },
   "file_extension": ".py",
   "mimetype": "text/x-python",
   "name": "python",
   "nbconvert_exporter": "python",
   "pygments_lexer": "ipython3",
   "version": "3.9.6"
  }
 },
 "nbformat": 4,
 "nbformat_minor": 2
}
